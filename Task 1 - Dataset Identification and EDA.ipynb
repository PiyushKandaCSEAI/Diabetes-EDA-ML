{
 "cells": [
  {
   "cell_type": "markdown",
   "id": "87766f68-7f79-4898-9e25-cee240147c31",
   "metadata": {},
   "source": [
    "# Task 1: Dataset Identification and EDA"
   ]
  },
  {
   "cell_type": "markdown",
   "id": "95e7a7e4-12f7-4a0f-a771-00be727e1dab",
   "metadata": {},
   "source": [
    "### We are trying to research on early detection of Type 2 diabetes."
   ]
  },
  {
   "cell_type": "markdown",
   "id": "64712804-8129-4bc8-9238-1524872f58b1",
   "metadata": {},
   "source": [
    "The Dataset to be used is: \n",
    "**Pima \n",
    "Indians dataset from the National Institute of Diabetes and \r\n",
    "Digestive and Kidney Diseas**es"
   ]
  },
  {
   "cell_type": "markdown",
   "id": "e5c6d15a-284f-49f3-a336-7b096f07b67c",
   "metadata": {},
   "source": [
    "Patients in the dataset to be included need to have:\n",
    "\n",
    "**Age >= 21**\n",
    "\n",
    "**Sex = Female**\n",
    "\n",
    "**Heritage = Pima Indian Heritage**"
   ]
  },
  {
   "cell_type": "markdown",
   "id": "2d727960-da7a-4eb1-b97b-3d4c0c3d37c6",
   "metadata": {},
   "source": [
    "There are **8 Predictor Variables (Inputs)** for which we have \n",
    "**1 Target Variable (Output)**, whether patient is diagnosed with Type 2 diabetes or not"
   ]
  },
  {
   "cell_type": "markdown",
   "id": "c40837d2-5846-4402-85f5-db4efe33eea8",
   "metadata": {},
   "source": [
    "&nbsp;"
   ]
  },
  {
   "cell_type": "code",
   "execution_count": 12,
   "id": "97ded084-1873-4a57-8169-65760c1cd421",
   "metadata": {},
   "outputs": [
    {
     "name": "stderr",
     "output_type": "stream",
     "text": [
      "Installing package into 'C:/Users/kanda/AppData/Local/R/win-library/4.4'\n",
      "(as 'lib' is unspecified)\n",
      "\n"
     ]
    },
    {
     "name": "stdout",
     "output_type": "stream",
     "text": [
      "package 'readxl' successfully unpacked and MD5 sums checked\n",
      "\n",
      "The downloaded binary packages are in\n",
      "\tC:\\Users\\kanda\\AppData\\Local\\Temp\\RtmpmM3EgP\\downloaded_packages\n"
     ]
    },
    {
     "name": "stderr",
     "output_type": "stream",
     "text": [
      "Warning message:\n",
      "\"package 'readxl' was built under R version 4.4.3\"\n"
     ]
    }
   ],
   "source": [
    "install.packages(\"readxl\")\n",
    "library(readxl)"
   ]
  },
  {
   "cell_type": "code",
   "execution_count": 22,
   "id": "fbbc1ab1-c780-48ba-bc33-d1875ec863d6",
   "metadata": {},
   "outputs": [
    {
     "data": {
      "text/html": [
       "<table class=\"dataframe\">\n",
       "<caption>A data.frame: 6 × 9</caption>\n",
       "<thead>\n",
       "\t<tr><th></th><th scope=col>Pregnancies</th><th scope=col>Glucose</th><th scope=col>BloodPressure</th><th scope=col>SkinThickness</th><th scope=col>Insulin</th><th scope=col>BMI</th><th scope=col>DiabetesPedigreeFunction</th><th scope=col>Age</th><th scope=col>Outcome</th></tr>\n",
       "\t<tr><th></th><th scope=col>&lt;int&gt;</th><th scope=col>&lt;int&gt;</th><th scope=col>&lt;int&gt;</th><th scope=col>&lt;int&gt;</th><th scope=col>&lt;int&gt;</th><th scope=col>&lt;dbl&gt;</th><th scope=col>&lt;dbl&gt;</th><th scope=col>&lt;int&gt;</th><th scope=col>&lt;int&gt;</th></tr>\n",
       "</thead>\n",
       "<tbody>\n",
       "\t<tr><th scope=row>1</th><td>6</td><td>148</td><td>72</td><td>35</td><td>  0</td><td>33.6</td><td>0.627</td><td>50</td><td>1</td></tr>\n",
       "\t<tr><th scope=row>2</th><td>1</td><td> 85</td><td>66</td><td>29</td><td>  0</td><td>26.6</td><td>0.351</td><td>31</td><td>0</td></tr>\n",
       "\t<tr><th scope=row>3</th><td>8</td><td>183</td><td>64</td><td> 0</td><td>  0</td><td>23.3</td><td>0.672</td><td>32</td><td>1</td></tr>\n",
       "\t<tr><th scope=row>4</th><td>1</td><td> 89</td><td>66</td><td>23</td><td> 94</td><td>28.1</td><td>0.167</td><td>21</td><td>0</td></tr>\n",
       "\t<tr><th scope=row>5</th><td>0</td><td>137</td><td>40</td><td>35</td><td>168</td><td>43.1</td><td>2.288</td><td>33</td><td>1</td></tr>\n",
       "\t<tr><th scope=row>6</th><td>5</td><td>116</td><td>74</td><td> 0</td><td>  0</td><td>25.6</td><td>0.201</td><td>30</td><td>0</td></tr>\n",
       "</tbody>\n",
       "</table>\n"
      ],
      "text/latex": [
       "A data.frame: 6 × 9\n",
       "\\begin{tabular}{r|lllllllll}\n",
       "  & Pregnancies & Glucose & BloodPressure & SkinThickness & Insulin & BMI & DiabetesPedigreeFunction & Age & Outcome\\\\\n",
       "  & <int> & <int> & <int> & <int> & <int> & <dbl> & <dbl> & <int> & <int>\\\\\n",
       "\\hline\n",
       "\t1 & 6 & 148 & 72 & 35 &   0 & 33.6 & 0.627 & 50 & 1\\\\\n",
       "\t2 & 1 &  85 & 66 & 29 &   0 & 26.6 & 0.351 & 31 & 0\\\\\n",
       "\t3 & 8 & 183 & 64 &  0 &   0 & 23.3 & 0.672 & 32 & 1\\\\\n",
       "\t4 & 1 &  89 & 66 & 23 &  94 & 28.1 & 0.167 & 21 & 0\\\\\n",
       "\t5 & 0 & 137 & 40 & 35 & 168 & 43.1 & 2.288 & 33 & 1\\\\\n",
       "\t6 & 5 & 116 & 74 &  0 &   0 & 25.6 & 0.201 & 30 & 0\\\\\n",
       "\\end{tabular}\n"
      ],
      "text/markdown": [
       "\n",
       "A data.frame: 6 × 9\n",
       "\n",
       "| <!--/--> | Pregnancies &lt;int&gt; | Glucose &lt;int&gt; | BloodPressure &lt;int&gt; | SkinThickness &lt;int&gt; | Insulin &lt;int&gt; | BMI &lt;dbl&gt; | DiabetesPedigreeFunction &lt;dbl&gt; | Age &lt;int&gt; | Outcome &lt;int&gt; |\n",
       "|---|---|---|---|---|---|---|---|---|---|\n",
       "| 1 | 6 | 148 | 72 | 35 |   0 | 33.6 | 0.627 | 50 | 1 |\n",
       "| 2 | 1 |  85 | 66 | 29 |   0 | 26.6 | 0.351 | 31 | 0 |\n",
       "| 3 | 8 | 183 | 64 |  0 |   0 | 23.3 | 0.672 | 32 | 1 |\n",
       "| 4 | 1 |  89 | 66 | 23 |  94 | 28.1 | 0.167 | 21 | 0 |\n",
       "| 5 | 0 | 137 | 40 | 35 | 168 | 43.1 | 2.288 | 33 | 1 |\n",
       "| 6 | 5 | 116 | 74 |  0 |   0 | 25.6 | 0.201 | 30 | 0 |\n",
       "\n"
      ],
      "text/plain": [
       "  Pregnancies Glucose BloodPressure SkinThickness Insulin BMI \n",
       "1 6           148     72            35              0     33.6\n",
       "2 1            85     66            29              0     26.6\n",
       "3 8           183     64             0              0     23.3\n",
       "4 1            89     66            23             94     28.1\n",
       "5 0           137     40            35            168     43.1\n",
       "6 5           116     74             0              0     25.6\n",
       "  DiabetesPedigreeFunction Age Outcome\n",
       "1 0.627                    50  1      \n",
       "2 0.351                    31  0      \n",
       "3 0.672                    32  1      \n",
       "4 0.167                    21  0      \n",
       "5 2.288                    33  1      \n",
       "6 0.201                    30  0      "
      ]
     },
     "metadata": {},
     "output_type": "display_data"
    }
   ],
   "source": [
    "# Reading the file to import the database\n",
    "\n",
    "data <- read.csv(\"C:/Users/kanda/OneDrive/Desktop/Coding/Semester 4/Data Exploration for AI/Assignments/Group Assignment/diabetes.csv\")\n",
    "head(data)"
   ]
  },
  {
   "cell_type": "markdown",
   "id": "be8a00f6-57bd-43f7-9277-556c9d915c40",
   "metadata": {},
   "source": [
    "0 = Healthy ; 1 = Diagnosed with Type 2 diabetes"
   ]
  },
  {
   "cell_type": "code",
   "execution_count": 25,
   "id": "948e8ebe-d580-462f-81c2-cf1aab63236e",
   "metadata": {},
   "outputs": [
    {
     "data": {
      "text/html": [
       "<table class=\"dataframe\">\n",
       "<caption>A data.frame: 6 × 9</caption>\n",
       "<thead>\n",
       "\t<tr><th></th><th scope=col>Pregnancies</th><th scope=col>Glucose</th><th scope=col>BloodPressure</th><th scope=col>SkinThickness</th><th scope=col>Insulin</th><th scope=col>BMI</th><th scope=col>DiabetesPedigreeFunction</th><th scope=col>Age</th><th scope=col>Outcome</th></tr>\n",
       "\t<tr><th></th><th scope=col>&lt;int&gt;</th><th scope=col>&lt;int&gt;</th><th scope=col>&lt;int&gt;</th><th scope=col>&lt;int&gt;</th><th scope=col>&lt;int&gt;</th><th scope=col>&lt;dbl&gt;</th><th scope=col>&lt;dbl&gt;</th><th scope=col>&lt;int&gt;</th><th scope=col>&lt;int&gt;</th></tr>\n",
       "</thead>\n",
       "<tbody>\n",
       "\t<tr><th scope=row>1</th><td>6</td><td>148</td><td>72</td><td>35</td><td>  0</td><td>33.6</td><td>0.627</td><td>50</td><td>1</td></tr>\n",
       "\t<tr><th scope=row>2</th><td>1</td><td> 85</td><td>66</td><td>29</td><td>  0</td><td>26.6</td><td>0.351</td><td>31</td><td>0</td></tr>\n",
       "\t<tr><th scope=row>3</th><td>8</td><td>183</td><td>64</td><td> 0</td><td>  0</td><td>23.3</td><td>0.672</td><td>32</td><td>1</td></tr>\n",
       "\t<tr><th scope=row>4</th><td>1</td><td> 89</td><td>66</td><td>23</td><td> 94</td><td>28.1</td><td>0.167</td><td>21</td><td>0</td></tr>\n",
       "\t<tr><th scope=row>5</th><td>0</td><td>137</td><td>40</td><td>35</td><td>168</td><td>43.1</td><td>2.288</td><td>33</td><td>1</td></tr>\n",
       "\t<tr><th scope=row>6</th><td>5</td><td>116</td><td>74</td><td> 0</td><td>  0</td><td>25.6</td><td>0.201</td><td>30</td><td>0</td></tr>\n",
       "</tbody>\n",
       "</table>\n"
      ],
      "text/latex": [
       "A data.frame: 6 × 9\n",
       "\\begin{tabular}{r|lllllllll}\n",
       "  & Pregnancies & Glucose & BloodPressure & SkinThickness & Insulin & BMI & DiabetesPedigreeFunction & Age & Outcome\\\\\n",
       "  & <int> & <int> & <int> & <int> & <int> & <dbl> & <dbl> & <int> & <int>\\\\\n",
       "\\hline\n",
       "\t1 & 6 & 148 & 72 & 35 &   0 & 33.6 & 0.627 & 50 & 1\\\\\n",
       "\t2 & 1 &  85 & 66 & 29 &   0 & 26.6 & 0.351 & 31 & 0\\\\\n",
       "\t3 & 8 & 183 & 64 &  0 &   0 & 23.3 & 0.672 & 32 & 1\\\\\n",
       "\t4 & 1 &  89 & 66 & 23 &  94 & 28.1 & 0.167 & 21 & 0\\\\\n",
       "\t5 & 0 & 137 & 40 & 35 & 168 & 43.1 & 2.288 & 33 & 1\\\\\n",
       "\t6 & 5 & 116 & 74 &  0 &   0 & 25.6 & 0.201 & 30 & 0\\\\\n",
       "\\end{tabular}\n"
      ],
      "text/markdown": [
       "\n",
       "A data.frame: 6 × 9\n",
       "\n",
       "| <!--/--> | Pregnancies &lt;int&gt; | Glucose &lt;int&gt; | BloodPressure &lt;int&gt; | SkinThickness &lt;int&gt; | Insulin &lt;int&gt; | BMI &lt;dbl&gt; | DiabetesPedigreeFunction &lt;dbl&gt; | Age &lt;int&gt; | Outcome &lt;int&gt; |\n",
       "|---|---|---|---|---|---|---|---|---|---|\n",
       "| 1 | 6 | 148 | 72 | 35 |   0 | 33.6 | 0.627 | 50 | 1 |\n",
       "| 2 | 1 |  85 | 66 | 29 |   0 | 26.6 | 0.351 | 31 | 0 |\n",
       "| 3 | 8 | 183 | 64 |  0 |   0 | 23.3 | 0.672 | 32 | 1 |\n",
       "| 4 | 1 |  89 | 66 | 23 |  94 | 28.1 | 0.167 | 21 | 0 |\n",
       "| 5 | 0 | 137 | 40 | 35 | 168 | 43.1 | 2.288 | 33 | 1 |\n",
       "| 6 | 5 | 116 | 74 |  0 |   0 | 25.6 | 0.201 | 30 | 0 |\n",
       "\n"
      ],
      "text/plain": [
       "  Pregnancies Glucose BloodPressure SkinThickness Insulin BMI \n",
       "1 6           148     72            35              0     33.6\n",
       "2 1            85     66            29              0     26.6\n",
       "3 8           183     64             0              0     23.3\n",
       "4 1            89     66            23             94     28.1\n",
       "5 0           137     40            35            168     43.1\n",
       "6 5           116     74             0              0     25.6\n",
       "  DiabetesPedigreeFunction Age Outcome\n",
       "1 0.627                    50  1      \n",
       "2 0.351                    31  0      \n",
       "3 0.672                    32  1      \n",
       "4 0.167                    21  0      \n",
       "5 2.288                    33  1      \n",
       "6 0.201                    30  0      "
      ]
     },
     "metadata": {},
     "output_type": "display_data"
    }
   ],
   "source": [
    "# Filtering the data:\n",
    "\n",
    "filtered_data <- subset(data, Age >= 21)\n",
    "head(filtered_data)"
   ]
  },
  {
   "cell_type": "code",
   "execution_count": 27,
   "id": "05ca7ba0-394d-474b-a62d-02774b6a15fd",
   "metadata": {},
   "outputs": [
    {
     "data": {
      "text/html": [
       "768"
      ],
      "text/latex": [
       "768"
      ],
      "text/markdown": [
       "768"
      ],
      "text/plain": [
       "[1] 768"
      ]
     },
     "metadata": {},
     "output_type": "display_data"
    }
   ],
   "source": [
    "nrow (data)"
   ]
  },
  {
   "cell_type": "code",
   "execution_count": 29,
   "id": "08922dd9-822e-448d-927d-7fdd81fba0ea",
   "metadata": {},
   "outputs": [
    {
     "data": {
      "text/html": [
       "768"
      ],
      "text/latex": [
       "768"
      ],
      "text/markdown": [
       "768"
      ],
      "text/plain": [
       "[1] 768"
      ]
     },
     "metadata": {},
     "output_type": "display_data"
    }
   ],
   "source": [
    "nrow(filtered_data)"
   ]
  },
  {
   "cell_type": "markdown",
   "id": "eb60b58f-73c1-4011-8eb3-3d1ef6ad1282",
   "metadata": {},
   "source": [
    "\n",
    "#### The purpose of Exploratory Data Analysis is to understand the Data and apply required editing, manipulations and preprocessing to the data for Machine Learning and Statistical Modelling"
   ]
  },
  {
   "cell_type": "markdown",
   "id": "ba745fa4-52a6-48b1-9337-3e3ae5ade6b6",
   "metadata": {},
   "source": [
    "As a part of Data Exploration and Analysis, we shall firstly clean the data before any other analysis\n",
    "\n",
    "Data Cleaning includes tasks like:\n",
    "\n",
    "    1. Handling missing values\n",
    "    2. Removing Duplicate data\n",
    "    3. Imputing data values etc."
   ]
  },
  {
   "cell_type": "markdown",
   "id": "3f3728ce-7829-403a-ba91-81dc073b26fb",
   "metadata": {},
   "source": [
    "&nbsp;\n",
    "#### Checking the structure of the data:"
   ]
  },
  {
   "cell_type": "code",
   "execution_count": 38,
   "id": "bc273bc3-f24e-4e50-9155-8f728ae63c95",
   "metadata": {},
   "outputs": [
    {
     "name": "stdout",
     "output_type": "stream",
     "text": [
      "'data.frame':\t768 obs. of  9 variables:\n",
      " $ Pregnancies             : int  6 1 8 1 0 5 3 10 2 8 ...\n",
      " $ Glucose                 : int  148 85 183 89 137 116 78 115 197 125 ...\n",
      " $ BloodPressure           : int  72 66 64 66 40 74 50 0 70 96 ...\n",
      " $ SkinThickness           : int  35 29 0 23 35 0 32 0 45 0 ...\n",
      " $ Insulin                 : int  0 0 0 94 168 0 88 0 543 0 ...\n",
      " $ BMI                     : num  33.6 26.6 23.3 28.1 43.1 25.6 31 35.3 30.5 0 ...\n",
      " $ DiabetesPedigreeFunction: num  0.627 0.351 0.672 0.167 2.288 ...\n",
      " $ Age                     : int  50 31 32 21 33 30 26 29 53 54 ...\n",
      " $ Outcome                 : int  1 0 1 0 1 0 1 0 1 1 ...\n",
      "NULL\n"
     ]
    }
   ],
   "source": [
    "print(str(filtered_data))"
   ]
  },
  {
   "cell_type": "code",
   "execution_count": 42,
   "id": "2121edd0-19c6-4be6-9340-9c0fc8c761fd",
   "metadata": {},
   "outputs": [
    {
     "name": "stdout",
     "output_type": "stream",
     "text": [
      "  Pregnancies        Glucose      BloodPressure    SkinThickness  \n",
      " Min.   : 0.000   Min.   :  0.0   Min.   :  0.00   Min.   : 0.00  \n",
      " 1st Qu.: 1.000   1st Qu.: 99.0   1st Qu.: 62.00   1st Qu.: 0.00  \n",
      " Median : 3.000   Median :117.0   Median : 72.00   Median :23.00  \n",
      " Mean   : 3.845   Mean   :120.9   Mean   : 69.11   Mean   :20.54  \n",
      " 3rd Qu.: 6.000   3rd Qu.:140.2   3rd Qu.: 80.00   3rd Qu.:32.00  \n",
      " Max.   :17.000   Max.   :199.0   Max.   :122.00   Max.   :99.00  \n",
      "    Insulin           BMI        DiabetesPedigreeFunction      Age       \n",
      " Min.   :  0.0   Min.   : 0.00   Min.   :0.0780           Min.   :21.00  \n",
      " 1st Qu.:  0.0   1st Qu.:27.30   1st Qu.:0.2437           1st Qu.:24.00  \n",
      " Median : 30.5   Median :32.00   Median :0.3725           Median :29.00  \n",
      " Mean   : 79.8   Mean   :31.99   Mean   :0.4719           Mean   :33.24  \n",
      " 3rd Qu.:127.2   3rd Qu.:36.60   3rd Qu.:0.6262           3rd Qu.:41.00  \n",
      " Max.   :846.0   Max.   :67.10   Max.   :2.4200           Max.   :81.00  \n",
      "    Outcome     \n",
      " Min.   :0.000  \n",
      " 1st Qu.:0.000  \n",
      " Median :0.000  \n",
      " Mean   :0.349  \n",
      " 3rd Qu.:1.000  \n",
      " Max.   :1.000  \n"
     ]
    }
   ],
   "source": [
    "print(summary(filtered_data))"
   ]
  },
  {
   "cell_type": "code",
   "execution_count": 50,
   "id": "59fe6c10-e52f-4a82-b9ce-34949b61795a",
   "metadata": {},
   "outputs": [
    {
     "name": "stdout",
     "output_type": "stream",
     "text": [
      "[1] \"Pregnancies\"              \"Glucose\"                 \n",
      "[3] \"BloodPressure\"            \"SkinThickness\"           \n",
      "[5] \"Insulin\"                  \"BMI\"                     \n",
      "[7] \"DiabetesPedigreeFunction\" \"Age\"                     \n",
      "[9] \"Outcome\"                 \n"
     ]
    }
   ],
   "source": [
    "print(names(data))"
   ]
  },
  {
   "cell_type": "markdown",
   "id": "925aedce-cc39-4368-b9d7-a7d773926b2e",
   "metadata": {},
   "source": [
    "&nbsp;"
   ]
  },
  {
   "cell_type": "markdown",
   "id": "8a398d98-8d8d-4c77-b4f0-cd099422ee12",
   "metadata": {},
   "source": [
    "#### Checking for the Missing Values"
   ]
  },
  {
   "cell_type": "markdown",
   "id": "0ecd28f1-d59a-4aa3-b3a8-3f7f790b7448",
   "metadata": {},
   "source": [
    "We will be imputing the missing values in the different predictor attributes with their respective medians, since medians are more robust as comapred to the means"
   ]
  },
  {
   "cell_type": "markdown",
   "id": "0af4204a-4949-4d33-be34-9bdd72ae21fb",
   "metadata": {},
   "source": [
    "In 5 attributes:\n",
    "\n",
    "    1. Glucose\n",
    "\n",
    "    2. Blood Pressure\n",
    "\n",
    "    3. SkinThickness\n",
    "\n",
    "    4. Insulin\n",
    "\n",
    "    5. BMI\n",
    "\n",
    "0 values signify nothing but missing values and hence they shall first be converted to Null values (NA) and then inputation will be done to them"
   ]
  },
  {
   "cell_type": "code",
   "execution_count": 58,
   "id": "fd1a5bae-b89c-48e4-b56b-b30b86a0fd66",
   "metadata": {},
   "outputs": [],
   "source": [
    "# For the 5 columns listed above\n",
    "\n",
    "# Step 1: Columns where 0 = missing\n",
    "zero_cols <- c(\"Glucose\", \"BloodPressure\", \"SkinThickness\", \"Insulin\", \"BMI\")\n",
    "\n",
    "# Step 2: Replacing 0 with NA\n",
    "filtered_data[, zero_cols] <- lapply(filtered_data[, zero_cols], function(x) ifelse(x == 0, NA, x))\n",
    "\n",
    "# Step 3: Imputing NA values using column medians\n",
    "for (col in zero_cols) {\n",
    "  filtered_data[[col]][is.na(filtered_data[[col]])] <- median(filtered_data[[col]], na.rm = TRUE)\n",
    "}                                    "
   ]
  },
  {
   "cell_type": "code",
   "execution_count": 60,
   "id": "55a4b65f-1a12-40df-97ae-6936e422e9b3",
   "metadata": {},
   "outputs": [],
   "source": [
    "# For the remaining 3 columns as well, we shall apply imputation\n",
    "\n",
    "# Optional: Imputing any remaining NAs in the remaining columns\n",
    "filtered_data <- data.frame(lapply(filtered_data, function(x) {\n",
    "  if (is.numeric(x)) {\n",
    "    x[is.na(x)] <- median(x, na.rm = TRUE)\n",
    "  }\n",
    "  return(x)\n",
    "}))"
   ]
  },
  {
   "cell_type": "code",
   "execution_count": 62,
   "id": "c4916feb-6f18-42e7-9dc7-d165cdd94e45",
   "metadata": {},
   "outputs": [
    {
     "data": {
      "text/html": [
       "<table class=\"dataframe\">\n",
       "<caption>A data.frame: 6 × 9</caption>\n",
       "<thead>\n",
       "\t<tr><th></th><th scope=col>Pregnancies</th><th scope=col>Glucose</th><th scope=col>BloodPressure</th><th scope=col>SkinThickness</th><th scope=col>Insulin</th><th scope=col>BMI</th><th scope=col>DiabetesPedigreeFunction</th><th scope=col>Age</th><th scope=col>Outcome</th></tr>\n",
       "\t<tr><th></th><th scope=col>&lt;dbl&gt;</th><th scope=col>&lt;dbl&gt;</th><th scope=col>&lt;dbl&gt;</th><th scope=col>&lt;dbl&gt;</th><th scope=col>&lt;dbl&gt;</th><th scope=col>&lt;dbl&gt;</th><th scope=col>&lt;dbl&gt;</th><th scope=col>&lt;dbl&gt;</th><th scope=col>&lt;dbl&gt;</th></tr>\n",
       "</thead>\n",
       "<tbody>\n",
       "\t<tr><th scope=row>1</th><td>6</td><td>148</td><td>72</td><td>35</td><td>125</td><td>33.6</td><td>0.627</td><td>50</td><td>1</td></tr>\n",
       "\t<tr><th scope=row>2</th><td>1</td><td> 85</td><td>66</td><td>29</td><td>125</td><td>26.6</td><td>0.351</td><td>31</td><td>0</td></tr>\n",
       "\t<tr><th scope=row>3</th><td>8</td><td>183</td><td>64</td><td>29</td><td>125</td><td>23.3</td><td>0.672</td><td>32</td><td>1</td></tr>\n",
       "\t<tr><th scope=row>4</th><td>1</td><td> 89</td><td>66</td><td>23</td><td> 94</td><td>28.1</td><td>0.167</td><td>21</td><td>0</td></tr>\n",
       "\t<tr><th scope=row>5</th><td>0</td><td>137</td><td>40</td><td>35</td><td>168</td><td>43.1</td><td>2.288</td><td>33</td><td>1</td></tr>\n",
       "\t<tr><th scope=row>6</th><td>5</td><td>116</td><td>74</td><td>29</td><td>125</td><td>25.6</td><td>0.201</td><td>30</td><td>0</td></tr>\n",
       "</tbody>\n",
       "</table>\n"
      ],
      "text/latex": [
       "A data.frame: 6 × 9\n",
       "\\begin{tabular}{r|lllllllll}\n",
       "  & Pregnancies & Glucose & BloodPressure & SkinThickness & Insulin & BMI & DiabetesPedigreeFunction & Age & Outcome\\\\\n",
       "  & <dbl> & <dbl> & <dbl> & <dbl> & <dbl> & <dbl> & <dbl> & <dbl> & <dbl>\\\\\n",
       "\\hline\n",
       "\t1 & 6 & 148 & 72 & 35 & 125 & 33.6 & 0.627 & 50 & 1\\\\\n",
       "\t2 & 1 &  85 & 66 & 29 & 125 & 26.6 & 0.351 & 31 & 0\\\\\n",
       "\t3 & 8 & 183 & 64 & 29 & 125 & 23.3 & 0.672 & 32 & 1\\\\\n",
       "\t4 & 1 &  89 & 66 & 23 &  94 & 28.1 & 0.167 & 21 & 0\\\\\n",
       "\t5 & 0 & 137 & 40 & 35 & 168 & 43.1 & 2.288 & 33 & 1\\\\\n",
       "\t6 & 5 & 116 & 74 & 29 & 125 & 25.6 & 0.201 & 30 & 0\\\\\n",
       "\\end{tabular}\n"
      ],
      "text/markdown": [
       "\n",
       "A data.frame: 6 × 9\n",
       "\n",
       "| <!--/--> | Pregnancies &lt;dbl&gt; | Glucose &lt;dbl&gt; | BloodPressure &lt;dbl&gt; | SkinThickness &lt;dbl&gt; | Insulin &lt;dbl&gt; | BMI &lt;dbl&gt; | DiabetesPedigreeFunction &lt;dbl&gt; | Age &lt;dbl&gt; | Outcome &lt;dbl&gt; |\n",
       "|---|---|---|---|---|---|---|---|---|---|\n",
       "| 1 | 6 | 148 | 72 | 35 | 125 | 33.6 | 0.627 | 50 | 1 |\n",
       "| 2 | 1 |  85 | 66 | 29 | 125 | 26.6 | 0.351 | 31 | 0 |\n",
       "| 3 | 8 | 183 | 64 | 29 | 125 | 23.3 | 0.672 | 32 | 1 |\n",
       "| 4 | 1 |  89 | 66 | 23 |  94 | 28.1 | 0.167 | 21 | 0 |\n",
       "| 5 | 0 | 137 | 40 | 35 | 168 | 43.1 | 2.288 | 33 | 1 |\n",
       "| 6 | 5 | 116 | 74 | 29 | 125 | 25.6 | 0.201 | 30 | 0 |\n",
       "\n"
      ],
      "text/plain": [
       "  Pregnancies Glucose BloodPressure SkinThickness Insulin BMI \n",
       "1 6           148     72            35            125     33.6\n",
       "2 1            85     66            29            125     26.6\n",
       "3 8           183     64            29            125     23.3\n",
       "4 1            89     66            23             94     28.1\n",
       "5 0           137     40            35            168     43.1\n",
       "6 5           116     74            29            125     25.6\n",
       "  DiabetesPedigreeFunction Age Outcome\n",
       "1 0.627                    50  1      \n",
       "2 0.351                    31  0      \n",
       "3 0.672                    32  1      \n",
       "4 0.167                    21  0      \n",
       "5 2.288                    33  1      \n",
       "6 0.201                    30  0      "
      ]
     },
     "metadata": {},
     "output_type": "display_data"
    }
   ],
   "source": [
    "head(filtered_data)"
   ]
  },
  {
   "cell_type": "markdown",
   "id": "266c5f65-4816-4075-9527-fd70ac17f220",
   "metadata": {},
   "source": [
    "&nbsp;"
   ]
  },
  {
   "cell_type": "markdown",
   "id": "de6eb412-d517-40bb-91db-835a593ee3d1",
   "metadata": {},
   "source": [
    "#### Removing the Duplicate rows "
   ]
  },
  {
   "cell_type": "code",
   "execution_count": 72,
   "id": "531e94cc-ab25-4bff-ba71-399930866992",
   "metadata": {},
   "outputs": [
    {
     "data": {
      "text/html": [
       "0"
      ],
      "text/latex": [
       "0"
      ],
      "text/markdown": [
       "0"
      ],
      "text/plain": [
       "[1] 0"
      ]
     },
     "metadata": {},
     "output_type": "display_data"
    }
   ],
   "source": [
    "sum(duplicated(filtered_data))  # helps to find the total number of duplicate rows"
   ]
  },
  {
   "cell_type": "markdown",
   "id": "1c0b33ee-afff-496b-8afc-33a7ac115ad1",
   "metadata": {},
   "source": [
    "Thereby, there is no need to remove any duplicate rows, since there no duplicated rows"
   ]
  },
  {
   "cell_type": "markdown",
   "id": "cc8fac92-84de-487e-babf-fc759eae5dc4",
   "metadata": {},
   "source": [
    "&nbsp;\n",
    "#### Converting the Outcome column into a factor for easier classification "
   ]
  },
  {
   "cell_type": "code",
   "execution_count": 82,
   "id": "cfcc18c0-51fc-44db-ad71-82afa873f3d2",
   "metadata": {},
   "outputs": [],
   "source": [
    "filtered_data$Outcome <- as.factor(filtered_data$Outcome)  # Convert target variable to factor"
   ]
  },
  {
   "cell_type": "code",
   "execution_count": 84,
   "id": "0a30df6e-96a1-4a62-b387-4c8043d58759",
   "metadata": {},
   "outputs": [
    {
     "data": {
      "text/html": [
       "<style>\n",
       ".list-inline {list-style: none; margin:0; padding: 0}\n",
       ".list-inline>li {display: inline-block}\n",
       ".list-inline>li:not(:last-child)::after {content: \"\\00b7\"; padding: 0 .5ex}\n",
       "</style>\n",
       "<ol class=list-inline><li>1</li><li>0</li><li>1</li><li>0</li><li>1</li><li>0</li><li>1</li><li>0</li><li>1</li><li>1</li><li>0</li><li>1</li><li>0</li><li>1</li><li>1</li><li>1</li><li>1</li><li>1</li><li>0</li><li>1</li><li>0</li><li>0</li><li>1</li><li>1</li><li>1</li><li>1</li><li>1</li><li>0</li><li>0</li><li>0</li><li>0</li><li>1</li><li>0</li><li>0</li><li>0</li><li>0</li><li>0</li><li>1</li><li>1</li><li>1</li><li>0</li><li>0</li><li>0</li><li>1</li><li>0</li><li>1</li><li>0</li><li>0</li><li>1</li><li>0</li><li>0</li><li>0</li><li>0</li><li>1</li><li>0</li><li>0</li><li>1</li><li>0</li><li>0</li><li>0</li><li>0</li><li>1</li><li>0</li><li>0</li><li>1</li><li>0</li><li>1</li><li>0</li><li>0</li><li>0</li><li>1</li><li>0</li><li>1</li><li>0</li><li>0</li><li>0</li><li>0</li><li>0</li><li>1</li><li>0</li><li>0</li><li>0</li><li>0</li><li>0</li><li>1</li><li>0</li><li>0</li><li>0</li><li>1</li><li>0</li><li>0</li><li>0</li><li>0</li><li>1</li><li>0</li><li>0</li><li>0</li><li>0</li><li>0</li><li>1</li><li>1</li><li>0</li><li>0</li><li>0</li><li>0</li><li>0</li><li>0</li><li>0</li><li>0</li><li>1</li><li>1</li><li>1</li><li>0</li><li>0</li><li>1</li><li>1</li><li>1</li><li>0</li><li>0</li><li>0</li><li>1</li><li>0</li><li>0</li><li>0</li><li>1</li><li>1</li><li>0</li><li>0</li><li>1</li><li>1</li><li>1</li><li>1</li><li>1</li><li>0</li><li>0</li><li>0</li><li>0</li><li>0</li><li>0</li><li>0</li><li>0</li><li>0</li><li>0</li><li>1</li><li>0</li><li>0</li><li>0</li><li>0</li><li>0</li><li>0</li><li>0</li><li>0</li><li>1</li><li>0</li><li>1</li><li>1</li><li>0</li><li>0</li><li>0</li><li>1</li><li>0</li><li>0</li><li>0</li><li>0</li><li>1</li><li>1</li><li>0</li><li>0</li><li>0</li><li>0</li><li>1</li><li>1</li><li>0</li><li>0</li><li>0</li><li>1</li><li>0</li><li>1</li><li>0</li><li>1</li><li>0</li><li>0</li><li>0</li><li>0</li><li>0</li><li>1</li><li>1</li><li>1</li><li>1</li><li>1</li><li>0</li><li>0</li><li>1</li><li>1</li><li>0</li><li>1</li><li>0</li><li>1</li><li>1</li><li>1</li><li>⋯</li><li>0</li><li>1</li><li>0</li><li>0</li><li>0</li><li>0</li><li>0</li><li>0</li><li>0</li><li>1</li><li>0</li><li>1</li><li>1</li><li>0</li><li>0</li><li>0</li><li>1</li><li>0</li><li>1</li><li>0</li><li>1</li><li>0</li><li>1</li><li>0</li><li>1</li><li>0</li><li>0</li><li>1</li><li>0</li><li>0</li><li>1</li><li>0</li><li>0</li><li>0</li><li>0</li><li>1</li><li>1</li><li>0</li><li>1</li><li>0</li><li>0</li><li>0</li><li>0</li><li>1</li><li>1</li><li>0</li><li>1</li><li>0</li><li>0</li><li>0</li><li>1</li><li>1</li><li>0</li><li>0</li><li>0</li><li>0</li><li>0</li><li>0</li><li>0</li><li>0</li><li>0</li><li>0</li><li>1</li><li>0</li><li>0</li><li>0</li><li>0</li><li>1</li><li>0</li><li>0</li><li>1</li><li>0</li><li>0</li><li>0</li><li>1</li><li>0</li><li>0</li><li>0</li><li>1</li><li>1</li><li>1</li><li>0</li><li>0</li><li>0</li><li>0</li><li>0</li><li>0</li><li>1</li><li>0</li><li>0</li><li>0</li><li>1</li><li>0</li><li>1</li><li>1</li><li>1</li><li>1</li><li>0</li><li>1</li><li>1</li><li>0</li><li>0</li><li>0</li><li>0</li><li>0</li><li>0</li><li>0</li><li>1</li><li>1</li><li>0</li><li>1</li><li>0</li><li>0</li><li>1</li><li>0</li><li>1</li><li>0</li><li>0</li><li>0</li><li>0</li><li>0</li><li>1</li><li>0</li><li>1</li><li>0</li><li>1</li><li>0</li><li>1</li><li>1</li><li>0</li><li>0</li><li>0</li><li>0</li><li>1</li><li>1</li><li>0</li><li>0</li><li>0</li><li>1</li><li>0</li><li>1</li><li>1</li><li>0</li><li>0</li><li>1</li><li>0</li><li>0</li><li>1</li><li>1</li><li>0</li><li>0</li><li>1</li><li>0</li><li>0</li><li>1</li><li>0</li><li>0</li><li>0</li><li>0</li><li>0</li><li>0</li><li>0</li><li>1</li><li>1</li><li>1</li><li>0</li><li>0</li><li>0</li><li>0</li><li>0</li><li>0</li><li>1</li><li>1</li><li>0</li><li>0</li><li>1</li><li>0</li><li>0</li><li>1</li><li>0</li><li>1</li><li>1</li><li>1</li><li>0</li><li>0</li><li>1</li><li>1</li><li>1</li><li>0</li><li>1</li><li>0</li><li>1</li><li>0</li><li>1</li><li>0</li><li>0</li><li>0</li><li>0</li><li>1</li><li>0</li></ol>\n",
       "\n",
       "<details>\n",
       "\t<summary style=display:list-item;cursor:pointer>\n",
       "\t\t<strong>Levels</strong>:\n",
       "\t</summary>\n",
       "\t<style>\n",
       "\t.list-inline {list-style: none; margin:0; padding: 0}\n",
       "\t.list-inline>li {display: inline-block}\n",
       "\t.list-inline>li:not(:last-child)::after {content: \"\\00b7\"; padding: 0 .5ex}\n",
       "\t</style>\n",
       "\t<ol class=list-inline><li>'0'</li><li>'1'</li></ol>\n",
       "</details>"
      ],
      "text/latex": [
       "\\begin{enumerate*}\n",
       "\\item 1\n",
       "\\item 0\n",
       "\\item 1\n",
       "\\item 0\n",
       "\\item 1\n",
       "\\item 0\n",
       "\\item 1\n",
       "\\item 0\n",
       "\\item 1\n",
       "\\item 1\n",
       "\\item 0\n",
       "\\item 1\n",
       "\\item 0\n",
       "\\item 1\n",
       "\\item 1\n",
       "\\item 1\n",
       "\\item 1\n",
       "\\item 1\n",
       "\\item 0\n",
       "\\item 1\n",
       "\\item 0\n",
       "\\item 0\n",
       "\\item 1\n",
       "\\item 1\n",
       "\\item 1\n",
       "\\item 1\n",
       "\\item 1\n",
       "\\item 0\n",
       "\\item 0\n",
       "\\item 0\n",
       "\\item 0\n",
       "\\item 1\n",
       "\\item 0\n",
       "\\item 0\n",
       "\\item 0\n",
       "\\item 0\n",
       "\\item 0\n",
       "\\item 1\n",
       "\\item 1\n",
       "\\item 1\n",
       "\\item 0\n",
       "\\item 0\n",
       "\\item 0\n",
       "\\item 1\n",
       "\\item 0\n",
       "\\item 1\n",
       "\\item 0\n",
       "\\item 0\n",
       "\\item 1\n",
       "\\item 0\n",
       "\\item 0\n",
       "\\item 0\n",
       "\\item 0\n",
       "\\item 1\n",
       "\\item 0\n",
       "\\item 0\n",
       "\\item 1\n",
       "\\item 0\n",
       "\\item 0\n",
       "\\item 0\n",
       "\\item 0\n",
       "\\item 1\n",
       "\\item 0\n",
       "\\item 0\n",
       "\\item 1\n",
       "\\item 0\n",
       "\\item 1\n",
       "\\item 0\n",
       "\\item 0\n",
       "\\item 0\n",
       "\\item 1\n",
       "\\item 0\n",
       "\\item 1\n",
       "\\item 0\n",
       "\\item 0\n",
       "\\item 0\n",
       "\\item 0\n",
       "\\item 0\n",
       "\\item 1\n",
       "\\item 0\n",
       "\\item 0\n",
       "\\item 0\n",
       "\\item 0\n",
       "\\item 0\n",
       "\\item 1\n",
       "\\item 0\n",
       "\\item 0\n",
       "\\item 0\n",
       "\\item 1\n",
       "\\item 0\n",
       "\\item 0\n",
       "\\item 0\n",
       "\\item 0\n",
       "\\item 1\n",
       "\\item 0\n",
       "\\item 0\n",
       "\\item 0\n",
       "\\item 0\n",
       "\\item 0\n",
       "\\item 1\n",
       "\\item 1\n",
       "\\item 0\n",
       "\\item 0\n",
       "\\item 0\n",
       "\\item 0\n",
       "\\item 0\n",
       "\\item 0\n",
       "\\item 0\n",
       "\\item 0\n",
       "\\item 1\n",
       "\\item 1\n",
       "\\item 1\n",
       "\\item 0\n",
       "\\item 0\n",
       "\\item 1\n",
       "\\item 1\n",
       "\\item 1\n",
       "\\item 0\n",
       "\\item 0\n",
       "\\item 0\n",
       "\\item 1\n",
       "\\item 0\n",
       "\\item 0\n",
       "\\item 0\n",
       "\\item 1\n",
       "\\item 1\n",
       "\\item 0\n",
       "\\item 0\n",
       "\\item 1\n",
       "\\item 1\n",
       "\\item 1\n",
       "\\item 1\n",
       "\\item 1\n",
       "\\item 0\n",
       "\\item 0\n",
       "\\item 0\n",
       "\\item 0\n",
       "\\item 0\n",
       "\\item 0\n",
       "\\item 0\n",
       "\\item 0\n",
       "\\item 0\n",
       "\\item 0\n",
       "\\item 1\n",
       "\\item 0\n",
       "\\item 0\n",
       "\\item 0\n",
       "\\item 0\n",
       "\\item 0\n",
       "\\item 0\n",
       "\\item 0\n",
       "\\item 0\n",
       "\\item 1\n",
       "\\item 0\n",
       "\\item 1\n",
       "\\item 1\n",
       "\\item 0\n",
       "\\item 0\n",
       "\\item 0\n",
       "\\item 1\n",
       "\\item 0\n",
       "\\item 0\n",
       "\\item 0\n",
       "\\item 0\n",
       "\\item 1\n",
       "\\item 1\n",
       "\\item 0\n",
       "\\item 0\n",
       "\\item 0\n",
       "\\item 0\n",
       "\\item 1\n",
       "\\item 1\n",
       "\\item 0\n",
       "\\item 0\n",
       "\\item 0\n",
       "\\item 1\n",
       "\\item 0\n",
       "\\item 1\n",
       "\\item 0\n",
       "\\item 1\n",
       "\\item 0\n",
       "\\item 0\n",
       "\\item 0\n",
       "\\item 0\n",
       "\\item 0\n",
       "\\item 1\n",
       "\\item 1\n",
       "\\item 1\n",
       "\\item 1\n",
       "\\item 1\n",
       "\\item 0\n",
       "\\item 0\n",
       "\\item 1\n",
       "\\item 1\n",
       "\\item 0\n",
       "\\item 1\n",
       "\\item 0\n",
       "\\item 1\n",
       "\\item 1\n",
       "\\item 1\n",
       "\\item ⋯\n",
       "\\item 0\n",
       "\\item 1\n",
       "\\item 0\n",
       "\\item 0\n",
       "\\item 0\n",
       "\\item 0\n",
       "\\item 0\n",
       "\\item 0\n",
       "\\item 0\n",
       "\\item 1\n",
       "\\item 0\n",
       "\\item 1\n",
       "\\item 1\n",
       "\\item 0\n",
       "\\item 0\n",
       "\\item 0\n",
       "\\item 1\n",
       "\\item 0\n",
       "\\item 1\n",
       "\\item 0\n",
       "\\item 1\n",
       "\\item 0\n",
       "\\item 1\n",
       "\\item 0\n",
       "\\item 1\n",
       "\\item 0\n",
       "\\item 0\n",
       "\\item 1\n",
       "\\item 0\n",
       "\\item 0\n",
       "\\item 1\n",
       "\\item 0\n",
       "\\item 0\n",
       "\\item 0\n",
       "\\item 0\n",
       "\\item 1\n",
       "\\item 1\n",
       "\\item 0\n",
       "\\item 1\n",
       "\\item 0\n",
       "\\item 0\n",
       "\\item 0\n",
       "\\item 0\n",
       "\\item 1\n",
       "\\item 1\n",
       "\\item 0\n",
       "\\item 1\n",
       "\\item 0\n",
       "\\item 0\n",
       "\\item 0\n",
       "\\item 1\n",
       "\\item 1\n",
       "\\item 0\n",
       "\\item 0\n",
       "\\item 0\n",
       "\\item 0\n",
       "\\item 0\n",
       "\\item 0\n",
       "\\item 0\n",
       "\\item 0\n",
       "\\item 0\n",
       "\\item 0\n",
       "\\item 1\n",
       "\\item 0\n",
       "\\item 0\n",
       "\\item 0\n",
       "\\item 0\n",
       "\\item 1\n",
       "\\item 0\n",
       "\\item 0\n",
       "\\item 1\n",
       "\\item 0\n",
       "\\item 0\n",
       "\\item 0\n",
       "\\item 1\n",
       "\\item 0\n",
       "\\item 0\n",
       "\\item 0\n",
       "\\item 1\n",
       "\\item 1\n",
       "\\item 1\n",
       "\\item 0\n",
       "\\item 0\n",
       "\\item 0\n",
       "\\item 0\n",
       "\\item 0\n",
       "\\item 0\n",
       "\\item 1\n",
       "\\item 0\n",
       "\\item 0\n",
       "\\item 0\n",
       "\\item 1\n",
       "\\item 0\n",
       "\\item 1\n",
       "\\item 1\n",
       "\\item 1\n",
       "\\item 1\n",
       "\\item 0\n",
       "\\item 1\n",
       "\\item 1\n",
       "\\item 0\n",
       "\\item 0\n",
       "\\item 0\n",
       "\\item 0\n",
       "\\item 0\n",
       "\\item 0\n",
       "\\item 0\n",
       "\\item 1\n",
       "\\item 1\n",
       "\\item 0\n",
       "\\item 1\n",
       "\\item 0\n",
       "\\item 0\n",
       "\\item 1\n",
       "\\item 0\n",
       "\\item 1\n",
       "\\item 0\n",
       "\\item 0\n",
       "\\item 0\n",
       "\\item 0\n",
       "\\item 0\n",
       "\\item 1\n",
       "\\item 0\n",
       "\\item 1\n",
       "\\item 0\n",
       "\\item 1\n",
       "\\item 0\n",
       "\\item 1\n",
       "\\item 1\n",
       "\\item 0\n",
       "\\item 0\n",
       "\\item 0\n",
       "\\item 0\n",
       "\\item 1\n",
       "\\item 1\n",
       "\\item 0\n",
       "\\item 0\n",
       "\\item 0\n",
       "\\item 1\n",
       "\\item 0\n",
       "\\item 1\n",
       "\\item 1\n",
       "\\item 0\n",
       "\\item 0\n",
       "\\item 1\n",
       "\\item 0\n",
       "\\item 0\n",
       "\\item 1\n",
       "\\item 1\n",
       "\\item 0\n",
       "\\item 0\n",
       "\\item 1\n",
       "\\item 0\n",
       "\\item 0\n",
       "\\item 1\n",
       "\\item 0\n",
       "\\item 0\n",
       "\\item 0\n",
       "\\item 0\n",
       "\\item 0\n",
       "\\item 0\n",
       "\\item 0\n",
       "\\item 1\n",
       "\\item 1\n",
       "\\item 1\n",
       "\\item 0\n",
       "\\item 0\n",
       "\\item 0\n",
       "\\item 0\n",
       "\\item 0\n",
       "\\item 0\n",
       "\\item 1\n",
       "\\item 1\n",
       "\\item 0\n",
       "\\item 0\n",
       "\\item 1\n",
       "\\item 0\n",
       "\\item 0\n",
       "\\item 1\n",
       "\\item 0\n",
       "\\item 1\n",
       "\\item 1\n",
       "\\item 1\n",
       "\\item 0\n",
       "\\item 0\n",
       "\\item 1\n",
       "\\item 1\n",
       "\\item 1\n",
       "\\item 0\n",
       "\\item 1\n",
       "\\item 0\n",
       "\\item 1\n",
       "\\item 0\n",
       "\\item 1\n",
       "\\item 0\n",
       "\\item 0\n",
       "\\item 0\n",
       "\\item 0\n",
       "\\item 1\n",
       "\\item 0\n",
       "\\end{enumerate*}\n",
       "\n",
       "\\emph{Levels}: \\begin{enumerate*}\n",
       "\\item '0'\n",
       "\\item '1'\n",
       "\\end{enumerate*}\n"
      ],
      "text/markdown": [
       "1. 1\n",
       "2. 0\n",
       "3. 1\n",
       "4. 0\n",
       "5. 1\n",
       "6. 0\n",
       "7. 1\n",
       "8. 0\n",
       "9. 1\n",
       "10. 1\n",
       "11. 0\n",
       "12. 1\n",
       "13. 0\n",
       "14. 1\n",
       "15. 1\n",
       "16. 1\n",
       "17. 1\n",
       "18. 1\n",
       "19. 0\n",
       "20. 1\n",
       "21. 0\n",
       "22. 0\n",
       "23. 1\n",
       "24. 1\n",
       "25. 1\n",
       "26. 1\n",
       "27. 1\n",
       "28. 0\n",
       "29. 0\n",
       "30. 0\n",
       "31. 0\n",
       "32. 1\n",
       "33. 0\n",
       "34. 0\n",
       "35. 0\n",
       "36. 0\n",
       "37. 0\n",
       "38. 1\n",
       "39. 1\n",
       "40. 1\n",
       "41. 0\n",
       "42. 0\n",
       "43. 0\n",
       "44. 1\n",
       "45. 0\n",
       "46. 1\n",
       "47. 0\n",
       "48. 0\n",
       "49. 1\n",
       "50. 0\n",
       "51. 0\n",
       "52. 0\n",
       "53. 0\n",
       "54. 1\n",
       "55. 0\n",
       "56. 0\n",
       "57. 1\n",
       "58. 0\n",
       "59. 0\n",
       "60. 0\n",
       "61. 0\n",
       "62. 1\n",
       "63. 0\n",
       "64. 0\n",
       "65. 1\n",
       "66. 0\n",
       "67. 1\n",
       "68. 0\n",
       "69. 0\n",
       "70. 0\n",
       "71. 1\n",
       "72. 0\n",
       "73. 1\n",
       "74. 0\n",
       "75. 0\n",
       "76. 0\n",
       "77. 0\n",
       "78. 0\n",
       "79. 1\n",
       "80. 0\n",
       "81. 0\n",
       "82. 0\n",
       "83. 0\n",
       "84. 0\n",
       "85. 1\n",
       "86. 0\n",
       "87. 0\n",
       "88. 0\n",
       "89. 1\n",
       "90. 0\n",
       "91. 0\n",
       "92. 0\n",
       "93. 0\n",
       "94. 1\n",
       "95. 0\n",
       "96. 0\n",
       "97. 0\n",
       "98. 0\n",
       "99. 0\n",
       "100. 1\n",
       "101. 1\n",
       "102. 0\n",
       "103. 0\n",
       "104. 0\n",
       "105. 0\n",
       "106. 0\n",
       "107. 0\n",
       "108. 0\n",
       "109. 0\n",
       "110. 1\n",
       "111. 1\n",
       "112. 1\n",
       "113. 0\n",
       "114. 0\n",
       "115. 1\n",
       "116. 1\n",
       "117. 1\n",
       "118. 0\n",
       "119. 0\n",
       "120. 0\n",
       "121. 1\n",
       "122. 0\n",
       "123. 0\n",
       "124. 0\n",
       "125. 1\n",
       "126. 1\n",
       "127. 0\n",
       "128. 0\n",
       "129. 1\n",
       "130. 1\n",
       "131. 1\n",
       "132. 1\n",
       "133. 1\n",
       "134. 0\n",
       "135. 0\n",
       "136. 0\n",
       "137. 0\n",
       "138. 0\n",
       "139. 0\n",
       "140. 0\n",
       "141. 0\n",
       "142. 0\n",
       "143. 0\n",
       "144. 1\n",
       "145. 0\n",
       "146. 0\n",
       "147. 0\n",
       "148. 0\n",
       "149. 0\n",
       "150. 0\n",
       "151. 0\n",
       "152. 0\n",
       "153. 1\n",
       "154. 0\n",
       "155. 1\n",
       "156. 1\n",
       "157. 0\n",
       "158. 0\n",
       "159. 0\n",
       "160. 1\n",
       "161. 0\n",
       "162. 0\n",
       "163. 0\n",
       "164. 0\n",
       "165. 1\n",
       "166. 1\n",
       "167. 0\n",
       "168. 0\n",
       "169. 0\n",
       "170. 0\n",
       "171. 1\n",
       "172. 1\n",
       "173. 0\n",
       "174. 0\n",
       "175. 0\n",
       "176. 1\n",
       "177. 0\n",
       "178. 1\n",
       "179. 0\n",
       "180. 1\n",
       "181. 0\n",
       "182. 0\n",
       "183. 0\n",
       "184. 0\n",
       "185. 0\n",
       "186. 1\n",
       "187. 1\n",
       "188. 1\n",
       "189. 1\n",
       "190. 1\n",
       "191. 0\n",
       "192. 0\n",
       "193. 1\n",
       "194. 1\n",
       "195. 0\n",
       "196. 1\n",
       "197. 0\n",
       "198. 1\n",
       "199. 1\n",
       "200. 1\n",
       "201. ⋯\n",
       "202. 0\n",
       "203. 1\n",
       "204. 0\n",
       "205. 0\n",
       "206. 0\n",
       "207. 0\n",
       "208. 0\n",
       "209. 0\n",
       "210. 0\n",
       "211. 1\n",
       "212. 0\n",
       "213. 1\n",
       "214. 1\n",
       "215. 0\n",
       "216. 0\n",
       "217. 0\n",
       "218. 1\n",
       "219. 0\n",
       "220. 1\n",
       "221. 0\n",
       "222. 1\n",
       "223. 0\n",
       "224. 1\n",
       "225. 0\n",
       "226. 1\n",
       "227. 0\n",
       "228. 0\n",
       "229. 1\n",
       "230. 0\n",
       "231. 0\n",
       "232. 1\n",
       "233. 0\n",
       "234. 0\n",
       "235. 0\n",
       "236. 0\n",
       "237. 1\n",
       "238. 1\n",
       "239. 0\n",
       "240. 1\n",
       "241. 0\n",
       "242. 0\n",
       "243. 0\n",
       "244. 0\n",
       "245. 1\n",
       "246. 1\n",
       "247. 0\n",
       "248. 1\n",
       "249. 0\n",
       "250. 0\n",
       "251. 0\n",
       "252. 1\n",
       "253. 1\n",
       "254. 0\n",
       "255. 0\n",
       "256. 0\n",
       "257. 0\n",
       "258. 0\n",
       "259. 0\n",
       "260. 0\n",
       "261. 0\n",
       "262. 0\n",
       "263. 0\n",
       "264. 1\n",
       "265. 0\n",
       "266. 0\n",
       "267. 0\n",
       "268. 0\n",
       "269. 1\n",
       "270. 0\n",
       "271. 0\n",
       "272. 1\n",
       "273. 0\n",
       "274. 0\n",
       "275. 0\n",
       "276. 1\n",
       "277. 0\n",
       "278. 0\n",
       "279. 0\n",
       "280. 1\n",
       "281. 1\n",
       "282. 1\n",
       "283. 0\n",
       "284. 0\n",
       "285. 0\n",
       "286. 0\n",
       "287. 0\n",
       "288. 0\n",
       "289. 1\n",
       "290. 0\n",
       "291. 0\n",
       "292. 0\n",
       "293. 1\n",
       "294. 0\n",
       "295. 1\n",
       "296. 1\n",
       "297. 1\n",
       "298. 1\n",
       "299. 0\n",
       "300. 1\n",
       "301. 1\n",
       "302. 0\n",
       "303. 0\n",
       "304. 0\n",
       "305. 0\n",
       "306. 0\n",
       "307. 0\n",
       "308. 0\n",
       "309. 1\n",
       "310. 1\n",
       "311. 0\n",
       "312. 1\n",
       "313. 0\n",
       "314. 0\n",
       "315. 1\n",
       "316. 0\n",
       "317. 1\n",
       "318. 0\n",
       "319. 0\n",
       "320. 0\n",
       "321. 0\n",
       "322. 0\n",
       "323. 1\n",
       "324. 0\n",
       "325. 1\n",
       "326. 0\n",
       "327. 1\n",
       "328. 0\n",
       "329. 1\n",
       "330. 1\n",
       "331. 0\n",
       "332. 0\n",
       "333. 0\n",
       "334. 0\n",
       "335. 1\n",
       "336. 1\n",
       "337. 0\n",
       "338. 0\n",
       "339. 0\n",
       "340. 1\n",
       "341. 0\n",
       "342. 1\n",
       "343. 1\n",
       "344. 0\n",
       "345. 0\n",
       "346. 1\n",
       "347. 0\n",
       "348. 0\n",
       "349. 1\n",
       "350. 1\n",
       "351. 0\n",
       "352. 0\n",
       "353. 1\n",
       "354. 0\n",
       "355. 0\n",
       "356. 1\n",
       "357. 0\n",
       "358. 0\n",
       "359. 0\n",
       "360. 0\n",
       "361. 0\n",
       "362. 0\n",
       "363. 0\n",
       "364. 1\n",
       "365. 1\n",
       "366. 1\n",
       "367. 0\n",
       "368. 0\n",
       "369. 0\n",
       "370. 0\n",
       "371. 0\n",
       "372. 0\n",
       "373. 1\n",
       "374. 1\n",
       "375. 0\n",
       "376. 0\n",
       "377. 1\n",
       "378. 0\n",
       "379. 0\n",
       "380. 1\n",
       "381. 0\n",
       "382. 1\n",
       "383. 1\n",
       "384. 1\n",
       "385. 0\n",
       "386. 0\n",
       "387. 1\n",
       "388. 1\n",
       "389. 1\n",
       "390. 0\n",
       "391. 1\n",
       "392. 0\n",
       "393. 1\n",
       "394. 0\n",
       "395. 1\n",
       "396. 0\n",
       "397. 0\n",
       "398. 0\n",
       "399. 0\n",
       "400. 1\n",
       "401. 0\n",
       "\n",
       "\n",
       "\n",
       "**Levels**: 1. '0'\n",
       "2. '1'\n",
       "\n",
       "\n"
      ],
      "text/plain": [
       "  [1] 1 0 1 0 1 0 1 0 1 1 0 1 0 1 1 1 1 1 0 1 0 0 1 1 1 1 1 0 0 0 0 1 0 0 0 0 0\n",
       " [38] 1 1 1 0 0 0 1 0 1 0 0 1 0 0 0 0 1 0 0 1 0 0 0 0 1 0 0 1 0 1 0 0 0 1 0 1 0\n",
       " [75] 0 0 0 0 1 0 0 0 0 0 1 0 0 0 1 0 0 0 0 1 0 0 0 0 0 1 1 0 0 0 0 0 0 0 0 1 1\n",
       "[112] 1 0 0 1 1 1 0 0 0 1 0 0 0 1 1 0 0 1 1 1 1 1 0 0 0 0 0 0 0 0 0 0 1 0 0 0 0\n",
       "[149] 0 0 0 0 1 0 1 1 0 0 0 1 0 0 0 0 1 1 0 0 0 0 1 1 0 0 0 1 0 1 0 1 0 0 0 0 0\n",
       "[186] 1 1 1 1 1 0 0 1 1 0 1 0 1 1 1 0 0 0 0 0 0 1 1 0 1 0 0 0 1 1 1 1 0 1 1 1 1\n",
       "[223] 0 0 0 0 0 1 0 0 1 1 0 0 0 1 1 1 1 0 0 0 1 1 0 1 0 0 0 0 0 0 0 0 1 1 0 0 0\n",
       "[260] 1 0 1 0 0 1 0 1 0 0 1 1 0 0 0 0 0 1 0 0 0 1 0 0 1 1 0 0 1 0 0 0 1 1 1 0 0\n",
       "[297] 1 0 1 0 1 1 0 1 0 0 1 0 1 1 0 0 1 0 1 0 0 1 0 1 0 1 1 1 0 0 1 0 1 0 0 0 1\n",
       "[334] 0 0 0 0 1 1 1 0 0 0 0 0 0 0 0 0 1 0 0 0 0 0 1 1 1 0 1 1 0 0 1 0 0 1 0 0 1\n",
       "[371] 1 0 0 0 0 1 0 0 1 0 0 0 0 0 0 0 1 1 1 0 0 1 0 0 1 0 0 1 0 1 1 0 1 0 1 0 1\n",
       "[408] 0 1 1 0 0 0 0 1 1 0 1 0 1 0 0 0 0 1 1 0 1 0 1 0 0 0 0 0 1 0 0 0 0 1 0 0 1\n",
       "[445] 1 1 0 0 1 0 0 1 0 0 0 1 0 0 1 0 0 0 0 0 0 0 0 0 1 0 0 0 0 0 0 0 1 0 0 0 1\n",
       "[482] 0 0 0 1 1 0 0 0 0 0 0 0 1 0 0 0 0 1 0 0 0 1 0 0 0 1 0 0 0 1 0 0 0 0 1 1 0\n",
       "[519] 0 0 0 0 0 1 0 0 0 0 0 0 0 0 0 0 0 1 0 0 0 1 1 1 1 0 0 1 1 0 0 0 0 0 0 0 0\n",
       "[556] 0 0 0 0 0 1 1 0 0 0 0 0 0 0 1 0 0 0 0 0 0 0 1 0 1 1 0 0 0 1 0 1 0 1 0 1 0\n",
       "[593] 1 0 0 1 0 0 1 0 0 0 0 1 1 0 1 0 0 0 0 1 1 0 1 0 0 0 1 1 0 0 0 0 0 0 0 0 0\n",
       "[630] 0 1 0 0 0 0 1 0 0 1 0 0 0 1 0 0 0 1 1 1 0 0 0 0 0 0 1 0 0 0 1 0 1 1 1 1 0\n",
       "[667] 1 1 0 0 0 0 0 0 0 1 1 0 1 0 0 1 0 1 0 0 0 0 0 1 0 1 0 1 0 1 1 0 0 0 0 1 1\n",
       "[704] 0 0 0 1 0 1 1 0 0 1 0 0 1 1 0 0 1 0 0 1 0 0 0 0 0 0 0 1 1 1 0 0 0 0 0 0 1\n",
       "[741] 1 0 0 1 0 0 1 0 1 1 1 0 0 1 1 1 0 1 0 1 0 1 0 0 0 0 1 0\n",
       "Levels: 0 1"
      ]
     },
     "metadata": {},
     "output_type": "display_data"
    }
   ],
   "source": [
    "filtered_data$Outcome"
   ]
  },
  {
   "cell_type": "markdown",
   "id": "02dbcb53-a56d-4916-b3f1-2047dbd452cf",
   "metadata": {},
   "source": [
    "\n",
    "#### The Data Cleaning portion has been completed\n",
    "&nbsp;"
   ]
  },
  {
   "cell_type": "markdown",
   "id": "746ff942-2b69-4fdc-9ca4-36f2435964ca",
   "metadata": {},
   "source": [
    "#### For the analysis of the Dataset after cleaning:\n",
    "\n",
    "There are two types of analysis:"
   ]
  },
  {
   "cell_type": "markdown",
   "id": "122590fe-3daa-4564-b834-12960f0059ec",
   "metadata": {},
   "source": [
    "### 1. Univariate Analysis\n",
    "### 2. Bivariate Analysis"
   ]
  },
  {
   "cell_type": "markdown",
   "id": "80dc2931-08e4-461b-9be8-fbc48b203223",
   "metadata": {},
   "source": [
    "&nbsp;\n",
    "#### UNIVARIATE ANALYSIS"
   ]
  },
  {
   "cell_type": "markdown",
   "id": "ed26afb0-d582-4fd2-8816-da317ef8adc8",
   "metadata": {},
   "source": [
    "In Univariate Analysis we understand the distribution and behaviour of each individual column"
   ]
  },
  {
   "cell_type": "code",
   "execution_count": 106,
   "id": "ecb8874c-5188-479a-a1e8-02cbf9d48954",
   "metadata": {},
   "outputs": [
    {
     "name": "stdout",
     "output_type": "stream",
     "text": [
      "   Min. 1st Qu.  Median    Mean 3rd Qu.    Max. \n",
      "  0.000   1.000   3.000   3.845   6.000  17.000 \n"
     ]
    }
   ],
   "source": [
    "# Summary Statistics\n",
    "print(summary(filtered_data$Pregnancies))"
   ]
  },
  {
   "cell_type": "code",
   "execution_count": 108,
   "id": "06e8b5fd-dc74-46d6-9a37-b34643745024",
   "metadata": {},
   "outputs": [
    {
     "name": "stdout",
     "output_type": "stream",
     "text": [
      "   Min. 1st Qu.  Median    Mean 3rd Qu.    Max. \n",
      "  44.00   99.75  117.00  121.66  140.25  199.00 \n"
     ]
    }
   ],
   "source": [
    "print(summary(filtered_data$Glucose))"
   ]
  },
  {
   "cell_type": "code",
   "execution_count": 110,
   "id": "007b6668-ff45-48fe-b775-0e011917f540",
   "metadata": {},
   "outputs": [
    {
     "name": "stdout",
     "output_type": "stream",
     "text": [
      "   Min. 1st Qu.  Median    Mean 3rd Qu.    Max. \n",
      "  24.00   64.00   72.00   72.39   80.00  122.00 \n"
     ]
    }
   ],
   "source": [
    "print(summary(filtered_data$BloodPressure))"
   ]
  },
  {
   "cell_type": "code",
   "execution_count": 112,
   "id": "364e9297-24d7-4720-bb1e-c8610bbf21f2",
   "metadata": {},
   "outputs": [
    {
     "name": "stdout",
     "output_type": "stream",
     "text": [
      "   Min. 1st Qu.  Median    Mean 3rd Qu.    Max. \n",
      "   7.00   25.00   29.00   29.11   32.00   99.00 \n"
     ]
    }
   ],
   "source": [
    "print(summary(filtered_data$SkinThickness))"
   ]
  },
  {
   "cell_type": "code",
   "execution_count": 114,
   "id": "118b4ef4-22c1-4a30-bc78-4b5b4c7637c0",
   "metadata": {},
   "outputs": [
    {
     "name": "stdout",
     "output_type": "stream",
     "text": [
      "   Min. 1st Qu.  Median    Mean 3rd Qu.    Max. \n",
      "   14.0   121.5   125.0   140.7   127.2   846.0 \n"
     ]
    }
   ],
   "source": [
    "print(summary(filtered_data$Insulin))"
   ]
  },
  {
   "cell_type": "code",
   "execution_count": 116,
   "id": "9b2d273b-7613-4d5c-a216-f295169648c8",
   "metadata": {},
   "outputs": [
    {
     "name": "stdout",
     "output_type": "stream",
     "text": [
      "   Min. 1st Qu.  Median    Mean 3rd Qu.    Max. \n",
      "  18.20   27.50   32.30   32.46   36.60   67.10 \n"
     ]
    }
   ],
   "source": [
    "print(summary(filtered_data$BMI))"
   ]
  },
  {
   "cell_type": "code",
   "execution_count": 122,
   "id": "9e7e61d7-661e-483d-826f-3a03c964867e",
   "metadata": {},
   "outputs": [
    {
     "name": "stdout",
     "output_type": "stream",
     "text": [
      "   Min. 1st Qu.  Median    Mean 3rd Qu.    Max. \n",
      " 0.0780  0.2437  0.3725  0.4719  0.6262  2.4200 \n"
     ]
    }
   ],
   "source": [
    "print(summary(filtered_data$DiabetesPedigreeFunction))"
   ]
  },
  {
   "cell_type": "code",
   "execution_count": 120,
   "id": "7e7bdc2c-cb51-45e6-a83d-b121542ff3c1",
   "metadata": {},
   "outputs": [
    {
     "name": "stdout",
     "output_type": "stream",
     "text": [
      "   Min. 1st Qu.  Median    Mean 3rd Qu.    Max. \n",
      "  21.00   24.00   29.00   33.24   41.00   81.00 \n"
     ]
    }
   ],
   "source": [
    "print(summary(filtered_data$Age))"
   ]
  },
  {
   "cell_type": "markdown",
   "id": "9d2c4db9-5841-4465-8604-29882aa7a505",
   "metadata": {},
   "source": [
    "&nbsp;"
   ]
  },
  {
   "cell_type": "markdown",
   "id": "b84b4891-01ad-4e34-9f56-12f574f95b03",
   "metadata": {},
   "source": [
    "#### MULTIVARIATE ANALYSIS "
   ]
  },
  {
   "cell_type": "markdown",
   "id": "7a686ed5-1884-4ede-bb23-fee72a7f71e7",
   "metadata": {},
   "source": [
    "In Multivariate Analysis, we understand the Relationships between Variables"
   ]
  },
  {
   "cell_type": "code",
   "execution_count": 139,
   "id": "7c60d0fb-5ce1-48a1-8fed-472253e21095",
   "metadata": {},
   "outputs": [
    {
     "data": {
      "text/html": [
       "<table class=\"dataframe\">\n",
       "<caption>A matrix: 8 × 8 of type dbl</caption>\n",
       "<thead>\n",
       "\t<tr><th></th><th scope=col>Pregnancies</th><th scope=col>Glucose</th><th scope=col>BloodPressure</th><th scope=col>SkinThickness</th><th scope=col>Insulin</th><th scope=col>BMI</th><th scope=col>DiabetesPedigreeFunction</th><th scope=col>Age</th></tr>\n",
       "</thead>\n",
       "<tbody>\n",
       "\t<tr><th scope=row>Pregnancies</th><td> 1.00000000</td><td>0.1282130</td><td> 0.208615412</td><td>0.08176982</td><td>0.02504748</td><td>0.02155873</td><td>-0.033522673</td><td>0.54434123</td></tr>\n",
       "\t<tr><th scope=row>Glucose</th><td> 0.12821296</td><td>1.0000000</td><td> 0.218937186</td><td>0.19261490</td><td>0.41945051</td><td>0.23104855</td><td> 0.137326919</td><td>0.26690916</td></tr>\n",
       "\t<tr><th scope=row>BloodPressure</th><td> 0.20861541</td><td>0.2189372</td><td> 1.000000000</td><td>0.19189239</td><td>0.04536330</td><td>0.28125656</td><td>-0.002378336</td><td>0.32491539</td></tr>\n",
       "\t<tr><th scope=row>SkinThickness</th><td> 0.08176982</td><td>0.1926149</td><td> 0.191892388</td><td>1.00000000</td><td>0.15561028</td><td>0.54320507</td><td> 0.102188267</td><td>0.12610719</td></tr>\n",
       "\t<tr><th scope=row>Insulin</th><td> 0.02504748</td><td>0.4194505</td><td> 0.045363305</td><td>0.15561028</td><td>1.00000000</td><td>0.18024114</td><td> 0.126503086</td><td>0.09710125</td></tr>\n",
       "\t<tr><th scope=row>BMI</th><td> 0.02155873</td><td>0.2310486</td><td> 0.281256564</td><td>0.54320507</td><td>0.18024114</td><td>1.00000000</td><td> 0.153437673</td><td>0.02559691</td></tr>\n",
       "\t<tr><th scope=row>DiabetesPedigreeFunction</th><td>-0.03352267</td><td>0.1373269</td><td>-0.002378336</td><td>0.10218827</td><td>0.12650309</td><td>0.15343767</td><td> 1.000000000</td><td>0.03356131</td></tr>\n",
       "\t<tr><th scope=row>Age</th><td> 0.54434123</td><td>0.2669092</td><td> 0.324915391</td><td>0.12610719</td><td>0.09710125</td><td>0.02559691</td><td> 0.033561312</td><td>1.00000000</td></tr>\n",
       "</tbody>\n",
       "</table>\n"
      ],
      "text/latex": [
       "A matrix: 8 × 8 of type dbl\n",
       "\\begin{tabular}{r|llllllll}\n",
       "  & Pregnancies & Glucose & BloodPressure & SkinThickness & Insulin & BMI & DiabetesPedigreeFunction & Age\\\\\n",
       "\\hline\n",
       "\tPregnancies &  1.00000000 & 0.1282130 &  0.208615412 & 0.08176982 & 0.02504748 & 0.02155873 & -0.033522673 & 0.54434123\\\\\n",
       "\tGlucose &  0.12821296 & 1.0000000 &  0.218937186 & 0.19261490 & 0.41945051 & 0.23104855 &  0.137326919 & 0.26690916\\\\\n",
       "\tBloodPressure &  0.20861541 & 0.2189372 &  1.000000000 & 0.19189239 & 0.04536330 & 0.28125656 & -0.002378336 & 0.32491539\\\\\n",
       "\tSkinThickness &  0.08176982 & 0.1926149 &  0.191892388 & 1.00000000 & 0.15561028 & 0.54320507 &  0.102188267 & 0.12610719\\\\\n",
       "\tInsulin &  0.02504748 & 0.4194505 &  0.045363305 & 0.15561028 & 1.00000000 & 0.18024114 &  0.126503086 & 0.09710125\\\\\n",
       "\tBMI &  0.02155873 & 0.2310486 &  0.281256564 & 0.54320507 & 0.18024114 & 1.00000000 &  0.153437673 & 0.02559691\\\\\n",
       "\tDiabetesPedigreeFunction & -0.03352267 & 0.1373269 & -0.002378336 & 0.10218827 & 0.12650309 & 0.15343767 &  1.000000000 & 0.03356131\\\\\n",
       "\tAge &  0.54434123 & 0.2669092 &  0.324915391 & 0.12610719 & 0.09710125 & 0.02559691 &  0.033561312 & 1.00000000\\\\\n",
       "\\end{tabular}\n"
      ],
      "text/markdown": [
       "\n",
       "A matrix: 8 × 8 of type dbl\n",
       "\n",
       "| <!--/--> | Pregnancies | Glucose | BloodPressure | SkinThickness | Insulin | BMI | DiabetesPedigreeFunction | Age |\n",
       "|---|---|---|---|---|---|---|---|---|\n",
       "| Pregnancies |  1.00000000 | 0.1282130 |  0.208615412 | 0.08176982 | 0.02504748 | 0.02155873 | -0.033522673 | 0.54434123 |\n",
       "| Glucose |  0.12821296 | 1.0000000 |  0.218937186 | 0.19261490 | 0.41945051 | 0.23104855 |  0.137326919 | 0.26690916 |\n",
       "| BloodPressure |  0.20861541 | 0.2189372 |  1.000000000 | 0.19189239 | 0.04536330 | 0.28125656 | -0.002378336 | 0.32491539 |\n",
       "| SkinThickness |  0.08176982 | 0.1926149 |  0.191892388 | 1.00000000 | 0.15561028 | 0.54320507 |  0.102188267 | 0.12610719 |\n",
       "| Insulin |  0.02504748 | 0.4194505 |  0.045363305 | 0.15561028 | 1.00000000 | 0.18024114 |  0.126503086 | 0.09710125 |\n",
       "| BMI |  0.02155873 | 0.2310486 |  0.281256564 | 0.54320507 | 0.18024114 | 1.00000000 |  0.153437673 | 0.02559691 |\n",
       "| DiabetesPedigreeFunction | -0.03352267 | 0.1373269 | -0.002378336 | 0.10218827 | 0.12650309 | 0.15343767 |  1.000000000 | 0.03356131 |\n",
       "| Age |  0.54434123 | 0.2669092 |  0.324915391 | 0.12610719 | 0.09710125 | 0.02559691 |  0.033561312 | 1.00000000 |\n",
       "\n"
      ],
      "text/plain": [
       "                         Pregnancies Glucose   BloodPressure SkinThickness\n",
       "Pregnancies               1.00000000 0.1282130  0.208615412  0.08176982   \n",
       "Glucose                   0.12821296 1.0000000  0.218937186  0.19261490   \n",
       "BloodPressure             0.20861541 0.2189372  1.000000000  0.19189239   \n",
       "SkinThickness             0.08176982 0.1926149  0.191892388  1.00000000   \n",
       "Insulin                   0.02504748 0.4194505  0.045363305  0.15561028   \n",
       "BMI                       0.02155873 0.2310486  0.281256564  0.54320507   \n",
       "DiabetesPedigreeFunction -0.03352267 0.1373269 -0.002378336  0.10218827   \n",
       "Age                       0.54434123 0.2669092  0.324915391  0.12610719   \n",
       "                         Insulin    BMI        DiabetesPedigreeFunction\n",
       "Pregnancies              0.02504748 0.02155873 -0.033522673            \n",
       "Glucose                  0.41945051 0.23104855  0.137326919            \n",
       "BloodPressure            0.04536330 0.28125656 -0.002378336            \n",
       "SkinThickness            0.15561028 0.54320507  0.102188267            \n",
       "Insulin                  1.00000000 0.18024114  0.126503086            \n",
       "BMI                      0.18024114 1.00000000  0.153437673            \n",
       "DiabetesPedigreeFunction 0.12650309 0.15343767  1.000000000            \n",
       "Age                      0.09710125 0.02559691  0.033561312            \n",
       "                         Age       \n",
       "Pregnancies              0.54434123\n",
       "Glucose                  0.26690916\n",
       "BloodPressure            0.32491539\n",
       "SkinThickness            0.12610719\n",
       "Insulin                  0.09710125\n",
       "BMI                      0.02559691\n",
       "DiabetesPedigreeFunction 0.03356131\n",
       "Age                      1.00000000"
      ]
     },
     "metadata": {},
     "output_type": "display_data"
    }
   ],
   "source": [
    "# Correlation Matrix \n",
    "cor(filtered_data[, sapply(data, is.numeric)])"
   ]
  },
  {
   "cell_type": "code",
   "execution_count": 141,
   "id": "25f143d3-b5c2-4602-ac3e-3e74bf8f4b89",
   "metadata": {},
   "outputs": [
    {
     "name": "stderr",
     "output_type": "stream",
     "text": [
      "Installing package into 'C:/Users/kanda/AppData/Local/R/win-library/4.4'\n",
      "(as 'lib' is unspecified)\n",
      "\n"
     ]
    },
    {
     "name": "stdout",
     "output_type": "stream",
     "text": [
      "package 'ggcorrplot' successfully unpacked and MD5 sums checked\n",
      "\n",
      "The downloaded binary packages are in\n",
      "\tC:\\Users\\kanda\\AppData\\Local\\Temp\\RtmpmM3EgP\\downloaded_packages\n"
     ]
    },
    {
     "name": "stderr",
     "output_type": "stream",
     "text": [
      "Warning message:\n",
      "\"package 'ggcorrplot' was built under R version 4.4.3\"\n"
     ]
    }
   ],
   "source": [
    "# Heatmap\n",
    "install.packages(\"ggcorrplot\")  # Run this only once\n",
    "library(ggcorrplot)"
   ]
  },
  {
   "cell_type": "code",
   "execution_count": 143,
   "id": "131ef1c8-4641-4784-9b64-dd11ba98230c",
   "metadata": {},
   "outputs": [
    {
     "data": {
      "image/png": "[encoded data removed]",
      "text/plain": [
       "plot without title"
      ]
     },
     "metadata": {
      "image/png": {
       "height": 420,
       "width": 420
      }
     },
     "output_type": "display_data"
    }
   ],
   "source": [
    "ggcorrplot(cor_matrix,\n",
    "           method = \"square\",         # square tiles like your image\n",
    "           type = \"lower\",            # show only lower triangle\n",
    "           lab = TRUE,                # show correlation values inside squares\n",
    "           lab_size = 3,              # font size of values\n",
    "           colors = c(\"#E0DADA\", \"white\", \"#9A031E\"),  # gradient colors (light to dark)\n",
    "           title = \"Heat map to show the correlation between features\",\n",
    "           ggtheme = ggplot2::theme_minimal())"
   ]
  },
  {
   "cell_type": "code",
   "execution_count": null,
   "id": "668d10cc-b97a-4642-933d-84e5af46fe0b",
   "metadata": {},
   "outputs": [],
   "source": []
  }
 ],
 "metadata": {
  "kernelspec": {
   "display_name": "R",
   "language": "R",
   "name": "ir"
  },
  "language_info": {
   "codemirror_mode": "r",
   "file_extension": ".r",
   "mimetype": "text/x-r-source",
   "name": "R",
   "pygments_lexer": "r",
   "version": "4.4.2"
  }
 },
 "nbformat": 4,
 "nbformat_minor": 5
}
